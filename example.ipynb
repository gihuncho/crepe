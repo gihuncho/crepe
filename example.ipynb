{
 "cells": [
  {
   "cell_type": "code",
   "execution_count": null,
   "id": "c490c069",
   "metadata": {},
   "outputs": [],
   "source": [
    "cache_dir = \"your/path/to/cache/dir\""
   ]
  },
  {
   "cell_type": "code",
   "execution_count": null,
   "id": "c2638c9f",
   "metadata": {},
   "outputs": [],
   "source": [
    "import torch\n",
    "import crepe\n",
    "\n",
    "device = torch.device(\"cuda\" if torch.cuda.is_available() else \"cpu\")\n",
    "model, tokenizer = crepe.load_model_and_tokenizer(cache_dir=cache_dir)\n",
    "model.to(device)\n",
    "model.eval()"
   ]
  },
  {
   "cell_type": "code",
   "execution_count": 4,
   "id": "d1513cfb",
   "metadata": {},
   "outputs": [
    {
     "name": "stdout",
     "output_type": "stream",
     "text": [
      "Reference: Normal chest radiograph\n",
      "Candidate: Bilateral pleural effusions noted\n",
      "{'crepe_score': 2.3631812632083893, 'predicted_error_counts': [1.5391030311584473, 0.7975516319274902, 0, 0.026526600122451782, 0, 0]}\n"
     ]
    }
   ],
   "source": [
    "refs = [\"Normal chest radiograph\"]\n",
    "cands = [\"Bilateral pleural effusions noted\"]\n",
    "\n",
    "for ref, cand in zip(refs, cands):\n",
    "    result = crepe.compute(\n",
    "        model=model,\n",
    "        tokenizer=tokenizer,\n",
    "        reference_report=ref,\n",
    "        candidate_report=cand,\n",
    "        device=device,\n",
    "    )\n",
    "    print(f\"Reference: {ref}\")\n",
    "    print(f\"Candidate: {cand}\")\n",
    "    print(result)"
   ]
  }
 ],
 "metadata": {
  "kernelspec": {
   "display_name": "hf",
   "language": "python",
   "name": "hf"
  },
  "language_info": {
   "codemirror_mode": {
    "name": "ipython",
    "version": 3
   },
   "file_extension": ".py",
   "mimetype": "text/x-python",
   "name": "python",
   "nbconvert_exporter": "python",
   "pygments_lexer": "ipython3",
   "version": "3.10.16"
  }
 },
 "nbformat": 4,
 "nbformat_minor": 5
}
